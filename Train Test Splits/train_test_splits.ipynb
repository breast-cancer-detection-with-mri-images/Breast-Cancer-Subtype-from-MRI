{
 "cells": [
  {
   "cell_type": "code",
   "execution_count": 43,
   "metadata": {},
   "outputs": [],
   "source": [
    "import pandas as pd\n",
    "import numpy as np\n",
    "\n",
    "import os\n",
    "\n",
    "from sklearn.model_selection import train_test_split"
   ]
  },
  {
   "cell_type": "code",
   "execution_count": 44,
   "metadata": {},
   "outputs": [],
   "source": [
    "df = pd.read_csv('../Data/Patient class labels.csv')\n",
    "\n",
    "randgen = 12345678\n",
    "train_size = 0.7"
   ]
  },
  {
   "cell_type": "code",
   "execution_count": 50,
   "metadata": {},
   "outputs": [],
   "source": [
    "# split for er\n",
    "\n",
    "er_train, er_test = train_test_split(df.drop(columns = ['PR', 'HER2', 'Mol Subtype']), train_size=train_size, stratify = df['ER'], random_state=randgen)\n",
    "er_train = er_train.rename(columns = {'ER': 'label'})\n",
    "er_test = er_test.rename(columns = {'ER': 'label'})"
   ]
  },
  {
   "cell_type": "code",
   "execution_count": 37,
   "metadata": {},
   "outputs": [],
   "source": [
    "# split for pr\n",
    "\n",
    "pr_train, pr_test = train_test_split(df.drop(columns = ['ER', 'HER2', 'Mol Subtype']), train_size=train_size, stratify = df['PR'], random_state=randgen)\n",
    "\n",
    "pr_train = pr_train.rename(columns = {'PR': 'label'})\n",
    "pr_test = pr_test.rename(columns = {'PR': 'label'})"
   ]
  },
  {
   "cell_type": "code",
   "execution_count": 51,
   "metadata": {},
   "outputs": [],
   "source": [
    "# split for HER2\n",
    "\n",
    "her2_train, her2_test = train_test_split(df.drop(columns = ['ER', 'PR', 'Mol Subtype']), train_size=train_size, stratify = df['HER2'], random_state=randgen)\n",
    "\n",
    "her2_train = her2_train.rename(columns = {'HER2': 'label'})\n",
    "her2_test = her2_test.rename(columns = {'HER2': 'label'})"
   ]
  },
  {
   "cell_type": "code",
   "execution_count": 52,
   "metadata": {},
   "outputs": [],
   "source": [
    "# split for molecular subtype\n",
    "\n",
    "molsub_train, molsub_test = train_test_split(df.drop(columns = ['ER', 'PR', 'HER2']), train_size=train_size, stratify = df['Mol Subtype'], random_state=randgen)\n",
    "\n",
    "molsub_train = molsub_train.rename(columns = {'Mol Subtype': 'label'})\n",
    "molsub_test = molsub_test.rename(columns = {'Mol Subtype': 'label'})"
   ]
  },
  {
   "cell_type": "code",
   "execution_count": 42,
   "metadata": {},
   "outputs": [],
   "source": [
    "# saving\n",
    "\n",
    "os.makedirs(\"ER\", mode = 777, exist_ok = True)\n",
    "os.makedirs(\"PR\", mode = 777, exist_ok = True)\n",
    "os.makedirs(\"HER2\", mode = 777, exist_ok = True)\n",
    "os.makedirs(\"Mol_Subtype\", mode = 777, exist_ok = True)\n",
    "\n",
    "er_train.to_csv(\"ER/train.csv\", index = False)\n",
    "pr_train.to_csv('PR/train.csv', index = False)\n",
    "her2_train.to_csv('HER2/train.csv', index = False)\n",
    "molsub_train.to_csv(\"Mol_Subtype/train.csv\", index = False)\n",
    "\n",
    "\n",
    "er_test.to_csv(\"ER/test.csv\", index = False)\n",
    "pr_test.to_csv('PR/test.csv', index = False)\n",
    "her2_test.to_csv('HER2/test.csv', index = False)\n",
    "molsub_test.to_csv(\"Mol_Subtype/test.csv\", index = False)"
   ]
  }
 ],
 "metadata": {
  "kernelspec": {
   "display_name": "Python 3.7.16 ('mri_project')",
   "language": "python",
   "name": "python3"
  },
  "language_info": {
   "codemirror_mode": {
    "name": "ipython",
    "version": 3
   },
   "file_extension": ".py",
   "mimetype": "text/x-python",
   "name": "python",
   "nbconvert_exporter": "python",
   "pygments_lexer": "ipython3",
   "version": "3.7.16"
  },
  "orig_nbformat": 4,
  "vscode": {
   "interpreter": {
    "hash": "46a30f71ba13f968ce13e2ff6d1c210f2ffd70fd7dc0256e6c75b999f7c20949"
   }
  }
 },
 "nbformat": 4,
 "nbformat_minor": 2
}
