{
 "cells": [
  {
   "cell_type": "code",
   "execution_count": 1,
   "metadata": {},
   "outputs": [],
   "source": [
    "import pandas as pd\n",
    "import numpy as np\n",
    "\n",
    "import torch\n",
    "import torch.nn.functional as F\n",
    "import torchvision\n",
    "import transformers\n",
    "\n",
    "from PIL import Image\n",
    "\n",
    "import os\n",
    "import glob\n",
    "\n",
    "import wandb\n",
    "from torchinfo import summary\n",
    "\n",
    "from tqdm import tqdm\n",
    "import matplotlib.pyplot as plt\n",
    "import seaborn as sns \n",
    "\n",
    "import SimpleITK as sitk\n",
    "\n",
    "\n",
    "\n",
    "from utils import normalize_sitk_image, MRI_Dataset_within_ROI, MRI_Dataset_within_ROI_both_prepost\n",
    "\n",
    "from torchvision.transforms import v2\n",
    "import torchio as tio\n",
    "\n",
    "from torchmetrics import Accuracy, Recall, Precision, F1Score\n",
    "\n",
    "\n",
    "torch.set_num_threads(12)\n",
    "DEVICE = torch.device('cuda') if torch.cuda.is_available() else torch.device('cpu')\n",
    "\n",
    "from sklearn.model_selection import train_test_split"
   ]
  },
  {
   "cell_type": "code",
   "execution_count": 2,
   "metadata": {},
   "outputs": [],
   "source": [
    "# parameters\n",
    "SIZE = (100,100,100)\n",
    "TRAIN_SPLIT = 0.8\n",
    "SPLIT_SEED = 123456789\n",
    "BATCH_SIZE = 5\n",
    "\n",
    "DATA_PATH = '../../../Processed NIFTI Dataset/'\n",
    "CLASSIFICATION = 'Mol_Subtype'\n",
    "dataset_path = f'../../Train Test Splits/{CLASSIFICATION}/'\n",
    "\n",
    "MODEL_SAVE_PATH = f'basic_model_{CLASSIFICATION}.pth'\n",
    "PROJECT_NAME = 'Breast Cancer Subtype Prediction'"
   ]
  },
  {
   "cell_type": "code",
   "execution_count": 3,
   "metadata": {},
   "outputs": [],
   "source": [
    "# dataset loading\n",
    "\n",
    "train_set = pd.read_csv(dataset_path + 'train.csv')\n",
    "test_set  = pd.read_csv(dataset_path + 'test.csv')\n",
    "\n",
    "bounding_boxes = pd.read_csv('../../Data/segmentation_annotations_NIFTI.csv').set_index('Patient_ID')\n",
    "\n",
    "NUM_CLASSES = len(train_set['label'].unique())"
   ]
  },
  {
   "cell_type": "code",
   "execution_count": 4,
   "metadata": {},
   "outputs": [],
   "source": [
    "# validation set split\n",
    "\n",
    "train_set, val_set = train_test_split(train_set, train_size = TRAIN_SPLIT, stratify = train_set['label'])"
   ]
  },
  {
   "cell_type": "code",
   "execution_count": 5,
   "metadata": {},
   "outputs": [],
   "source": [
    "# transforms\n",
    "\n",
    "transform = v2.Compose([\n",
    "    tio.ZNormalization()\n",
    "    # v2.Normalize(mean = [0.5], std = [0.225])\n",
    "])\n",
    "\n",
    "upscaler = tio.Resize(SIZE, 'bspline')"
   ]
  },
  {
   "cell_type": "code",
   "execution_count": 6,
   "metadata": {},
   "outputs": [],
   "source": [
    "affine_args = {\n",
    "        'scales' : [0.8, 1, 0.8, 1, 0.8, 1],\n",
    "        'degrees' : 15,\n",
    "        'translation' : [0.05, 0.05, 0.05],\n",
    "        'center' : 'image'\n",
    "}\n",
    "\n",
    "augment = tio.Compose([\n",
    "    # tio.transforms.RandomFlip(axes = (0, 1, 2)),\n",
    "    tio.transforms.RandomAffine(\n",
    "        **affine_args\n",
    "    )\n",
    "])"
   ]
  },
  {
   "cell_type": "code",
   "execution_count": 7,
   "metadata": {},
   "outputs": [],
   "source": [
    "# # Datasets\n",
    "\n",
    "# train_dataset = MRI_Dataset_within_ROI(DATA_PATH,\n",
    "#                                        train_set,\n",
    "#                                        bounding_boxes, \n",
    "#                                        transform,\n",
    "#                                        upscaler,\n",
    "#                                     #    augment = augment\n",
    "#                                        )\n",
    "\n",
    "# val_dataset = MRI_Dataset_within_ROI(DATA_PATH,\n",
    "#                                        val_set,\n",
    "#                                        bounding_boxes, \n",
    "#                                        transform,\n",
    "#                                        upscaler)\n",
    "\n",
    "# test_dataset = MRI_Dataset_within_ROI(DATA_PATH,\n",
    "#                                        test_set,\n",
    "#                                        bounding_boxes, \n",
    "#                                        transform,\n",
    "#                                        upscaler)"
   ]
  },
  {
   "cell_type": "code",
   "execution_count": 8,
   "metadata": {},
   "outputs": [],
   "source": [
    "class_sample_count = train_set.label.value_counts()  \n",
    "class_sample_count = 1/class_sample_count\n",
    "class_sample_count = class_sample_count.tolist()\n",
    "\n",
    "c_w = train_set.label.apply(lambda x: class_sample_count[x]).to_numpy()\n",
    "c_w = torch.tensor(c_w, dtype = torch.double)\n",
    "\n",
    "weighted_sampler = torch.utils.data.WeightedRandomSampler(c_w, len(c_w))"
   ]
  },
  {
   "cell_type": "code",
   "execution_count": 9,
   "metadata": {},
   "outputs": [],
   "source": [
    "# Datasets\n",
    "\n",
    "train_dataset = MRI_Dataset_within_ROI_both_prepost(DATA_PATH,\n",
    "                                       train_set,\n",
    "                                       bounding_boxes, \n",
    "                                       transform,\n",
    "                                       upscaler,\n",
    "                                       augment = augment,\n",
    "                                       )\n",
    "\n",
    "val_dataset = MRI_Dataset_within_ROI_both_prepost(DATA_PATH,\n",
    "                                       val_set,\n",
    "                                       bounding_boxes, \n",
    "                                       transform,\n",
    "                                       upscaler)\n",
    "\n",
    "test_dataset = MRI_Dataset_within_ROI_both_prepost(DATA_PATH,\n",
    "                                       test_set,\n",
    "                                       bounding_boxes, \n",
    "                                       transform,\n",
    "                                       upscaler)"
   ]
  },
  {
   "cell_type": "code",
   "execution_count": 10,
   "metadata": {},
   "outputs": [],
   "source": [
    "## Dataloaders\n",
    "\n",
    "train_loader = torch.utils.data.DataLoader(train_dataset,\n",
    "                                        #    shuffle = True,\n",
    "                                           batch_size = BATCH_SIZE,\n",
    "                                           pin_memory = True,\n",
    "                                           num_workers = 3,\n",
    "                                           sampler = weighted_sampler\n",
    "                                           )\n",
    "\n",
    "val_loader = torch.utils.data.DataLoader(val_dataset,\n",
    "                                           batch_size = BATCH_SIZE,\n",
    "                                           pin_memory = True,\n",
    "                                           num_workers = 2\n",
    "                                           )\n",
    "\n",
    "test_loader = torch.utils.data.DataLoader(test_dataset,\n",
    "                                           batch_size = BATCH_SIZE,\n",
    "                                           pin_memory = True,\n",
    "                                           num_workers = 2\n",
    "                                           )"
   ]
  },
  {
   "cell_type": "markdown",
   "metadata": {},
   "source": [
    "## Model architecture"
   ]
  },
  {
   "cell_type": "code",
   "execution_count": 11,
   "metadata": {},
   "outputs": [],
   "source": [
    "class ConvNet_MRI3D(torch.nn.Module):\n",
    "    def __init__(self, in_channels, num_classes):\n",
    "        super(ConvNet_MRI3D, self).__init__()\n",
    "        self.conv1 = torch.nn.Conv3d(in_channels, 16, kernel_size = (3,3,3), stride = (1,1,1), padding = 1)\n",
    "        self.conv2 = torch.nn.Conv3d(16, 16, kernel_size = (3,3,3), stride = (1,1,1), padding = 1)\n",
    "        self.conv3 = torch.nn.Conv3d(16, 16, kernel_size = (3,3,3), stride = (1,1,1), padding = 1)\n",
    "        self.conv4 = torch.nn.Conv3d(16, 32, kernel_size = (3,3,3), stride = (1,1,1), padding = 1)\n",
    "        \n",
    "        # self.conv1x1_1 = torch.nn.Conv3d(16, 16, kernel_size=1, stride=1)\n",
    "        # self.conv1x1_2 = torch.nn.Conv3d(16, 16, kernel_size=1, stride=1)\n",
    "        self.maxpool1 = torch.nn.MaxPool3d(2)\n",
    "\n",
    "        self.flatten = torch.nn.Flatten()\n",
    "        self.fc1 = torch.nn.Linear(3456*2, num_classes)\n",
    "    \n",
    "    def forward(self, inp):\n",
    "        out = inp\n",
    "        out = F.relu(self.conv1(out))\n",
    "        intermediate = self.maxpool1(out)\n",
    "        \n",
    "        \n",
    "        out = F.relu(self.conv2(intermediate))\n",
    "        out = out + intermediate      # residual\n",
    "        intermediate = self.maxpool1(out)\n",
    "        \n",
    "        out = F.relu(self.conv3(intermediate))\n",
    "        out = out + intermediate\n",
    "\n",
    "        out = self.maxpool1(out)\n",
    "        out = self.conv4(out)\n",
    "        out = self.maxpool1(out)\n",
    "        out = self.flatten(out)\n",
    "        \n",
    "        out = self.fc1(out)\n",
    "        \n",
    "        return out\n",
    "        \n",
    "        "
   ]
  },
  {
   "cell_type": "code",
   "execution_count": 12,
   "metadata": {},
   "outputs": [],
   "source": [
    "# summary(ConvNet_MRI3D(2, 2), input_size=(20,2,100,100,100), col_names = ['input_size', 'output_size', 'num_params'])"
   ]
  },
  {
   "cell_type": "code",
   "execution_count": 13,
   "metadata": {},
   "outputs": [
    {
     "name": "stderr",
     "output_type": "stream",
     "text": [
      "Failed to detect the name of this notebook, you can set it manually with the WANDB_NOTEBOOK_NAME environment variable to enable code saving.\n",
      "\u001b[34m\u001b[1mwandb\u001b[0m: Currently logged in as: \u001b[33mmadhava20217\u001b[0m (\u001b[33mmadkri\u001b[0m). Use \u001b[1m`wandb login --relogin`\u001b[0m to force relogin\n"
     ]
    },
    {
     "data": {
      "text/html": [
       "wandb version 0.16.0 is available!  To upgrade, please run:\n",
       " $ pip install wandb --upgrade"
      ],
      "text/plain": [
       "<IPython.core.display.HTML object>"
      ]
     },
     "metadata": {},
     "output_type": "display_data"
    },
    {
     "data": {
      "text/html": [
       "Tracking run with wandb version 0.15.10"
      ],
      "text/plain": [
       "<IPython.core.display.HTML object>"
      ]
     },
     "metadata": {},
     "output_type": "display_data"
    },
    {
     "data": {
      "text/html": [
       "Run data is saved locally in <code>d:\\ML Projects\\Breast Cancer Detection\\breast-cancer-classification-using-mri-images\\4.2. DL Models\\Basic 3D CNN\\wandb\\run-20231111_131333-9eir6imu</code>"
      ],
      "text/plain": [
       "<IPython.core.display.HTML object>"
      ]
     },
     "metadata": {},
     "output_type": "display_data"
    },
    {
     "data": {
      "text/html": [
       "Syncing run <strong><a href='https://wandb.ai/madkri/Breast%20Cancer%20Subtype%20Prediction%20-%20Mol_Subtype/runs/9eir6imu' target=\"_blank\">3D Convnet with random sampling and class weights</a></strong> to <a href='https://wandb.ai/madkri/Breast%20Cancer%20Subtype%20Prediction%20-%20Mol_Subtype' target=\"_blank\">Weights & Biases</a> (<a href='https://wandb.me/run' target=\"_blank\">docs</a>)<br/>"
      ],
      "text/plain": [
       "<IPython.core.display.HTML object>"
      ]
     },
     "metadata": {},
     "output_type": "display_data"
    },
    {
     "data": {
      "text/html": [
       " View project at <a href='https://wandb.ai/madkri/Breast%20Cancer%20Subtype%20Prediction%20-%20Mol_Subtype' target=\"_blank\">https://wandb.ai/madkri/Breast%20Cancer%20Subtype%20Prediction%20-%20Mol_Subtype</a>"
      ],
      "text/plain": [
       "<IPython.core.display.HTML object>"
      ]
     },
     "metadata": {},
     "output_type": "display_data"
    },
    {
     "data": {
      "text/html": [
       " View run at <a href='https://wandb.ai/madkri/Breast%20Cancer%20Subtype%20Prediction%20-%20Mol_Subtype/runs/9eir6imu' target=\"_blank\">https://wandb.ai/madkri/Breast%20Cancer%20Subtype%20Prediction%20-%20Mol_Subtype/runs/9eir6imu</a>"
      ],
      "text/plain": [
       "<IPython.core.display.HTML object>"
      ]
     },
     "metadata": {},
     "output_type": "display_data"
    },
    {
     "data": {
      "text/html": [
       "<button onClick=\"this.nextSibling.style.display='block';this.style.display='none';\">Display W&B run</button><iframe src='https://wandb.ai/madkri/Breast%20Cancer%20Subtype%20Prediction%20-%20Mol_Subtype/runs/9eir6imu?jupyter=true' style='border:none;width:100%;height:420px;display:none;'></iframe>"
      ],
      "text/plain": [
       "<wandb.sdk.wandb_run.Run at 0x1787fc6f050>"
      ]
     },
     "execution_count": 13,
     "metadata": {},
     "output_type": "execute_result"
    }
   ],
   "source": [
    "LR = 0.0001\n",
    "EPOCHS = 25\n",
    "\n",
    "model = ConvNet_MRI3D(2, NUM_CLASSES).to(DEVICE)\n",
    "optim = torch.optim.Adam(model.parameters(), lr = LR)\n",
    "\n",
    "wandb.login()\n",
    "wandb.init(\n",
    "    project = f\"{PROJECT_NAME} - {CLASSIFICATION}\",\n",
    "    name = '3D Convnet with random sampling and class weights',\n",
    "\n",
    "    config = {\n",
    "        'learning_rate': LR,\n",
    "        'architecture': \"3D ConvNet\",\n",
    "        'epochs' : EPOCHS,\n",
    "        'batch_size': BATCH_SIZE\n",
    "    }\n",
    ")\n"
   ]
  },
  {
   "cell_type": "code",
   "execution_count": 14,
   "metadata": {},
   "outputs": [
    {
     "name": "stdout",
     "output_type": "stream",
     "text": [
      "tensor([0.3547, 0.8217, 0.8876, 0.9360])\n"
     ]
    }
   ],
   "source": [
    "weights = torch.tensor((train_set['label'].value_counts()/len(train_set)).to_numpy())\n",
    "weights = 1 - weights\n",
    "weights = weights.float()\n",
    "print(weights)"
   ]
  },
  {
   "cell_type": "code",
   "execution_count": 15,
   "metadata": {},
   "outputs": [
    {
     "name": "stderr",
     "output_type": "stream",
     "text": [
      "CE Loss: 1.083899091091729: 100%|██████████| 104/104 [01:44<00:00,  1.00s/it] \n",
      "CE Loss: 0.9648138412324957: 100%|██████████| 104/104 [01:45<00:00,  1.02s/it]\n",
      "CE Loss: 0.9540102145122004: 100%|██████████| 104/104 [01:48<00:00,  1.04s/it]\n",
      "CE Loss: 0.8708996961629668: 100%|██████████| 104/104 [01:45<00:00,  1.02s/it]\n",
      "CE Loss: 0.8672159366136374: 100%|██████████| 104/104 [01:43<00:00,  1.00it/s]\n",
      "CE Loss: 0.7855223990225977: 100%|██████████| 104/104 [01:43<00:00,  1.00it/s]\n",
      "CE Loss: 0.7479931515489899: 100%|██████████| 104/104 [01:42<00:00,  1.01it/s]\n",
      "CE Loss: 0.6879978790705981: 100%|██████████| 104/104 [01:45<00:00,  1.01s/it]\n",
      "CE Loss: 0.5887641016133996: 100%|██████████| 104/104 [01:43<00:00,  1.00it/s]\n",
      "CE Loss: 0.5900332796307959: 100%|██████████| 104/104 [01:43<00:00,  1.01it/s]\n",
      "CE Loss: 0.5070941670862741: 100%|██████████| 104/104 [01:43<00:00,  1.00it/s]\n",
      "CE Loss: 0.48755583861597285: 100%|██████████| 104/104 [01:45<00:00,  1.01s/it]\n",
      "CE Loss: 0.5036058469076258: 100%|██████████| 104/104 [01:47<00:00,  1.03s/it]\n",
      "CE Loss: 0.46003602450901226: 100%|██████████| 104/104 [01:44<00:00,  1.01s/it]\n",
      "CE Loss: 0.3865157070013788: 100%|██████████| 104/104 [01:40<00:00,  1.04it/s] \n",
      "CE Loss: 0.3496218056782589: 100%|██████████| 104/104 [01:45<00:00,  1.02s/it] \n",
      "CE Loss: 0.3953636975150353: 100%|██████████| 104/104 [01:42<00:00,  1.02it/s] \n",
      "CE Loss: 0.3500875436643124: 100%|██████████| 104/104 [01:43<00:00,  1.01it/s] \n",
      "CE Loss: 0.3311556960634757: 100%|██████████| 104/104 [01:43<00:00,  1.01it/s] \n",
      "CE Loss: 0.3781836676274159: 100%|██████████| 104/104 [01:43<00:00,  1.00it/s] \n",
      "CE Loss: 0.3468605357821482: 100%|██████████| 104/104 [01:44<00:00,  1.01s/it] \n",
      "CE Loss: 0.36313123155255306: 100%|██████████| 104/104 [01:43<00:00,  1.00it/s]\n",
      "CE Loss: 0.2893813501289042: 100%|██████████| 104/104 [01:45<00:00,  1.01s/it] \n",
      "CE Loss: 0.289423591722626: 100%|██████████| 104/104 [01:45<00:00,  1.01s/it]  \n",
      "CE Loss: 0.2916293287155211: 100%|██████████| 104/104 [01:42<00:00,  1.02it/s] \n"
     ]
    }
   ],
   "source": [
    "# training loop\n",
    "\n",
    "# train_metrics = []\n",
    "\n",
    "scaler = torch.cuda.amp.grad_scaler.GradScaler()\n",
    "CrossEntropyLoss = torch.nn.CrossEntropyLoss(weight = weights).to(DEVICE)           # unweighted right now\n",
    "\n",
    "acc_train = Accuracy(task = 'multiclass', num_classes = NUM_CLASSES, average = 'weighted', top_k = 1).to(DEVICE)\n",
    "acc_val = Accuracy(task = 'multiclass', num_classes = NUM_CLASSES, average = 'weighted', top_k = 1).to(DEVICE)\n",
    "\n",
    "recall_train = Recall(task = 'multiclass', average = 'weighted', num_classes = NUM_CLASSES).to(DEVICE)\n",
    "recall_val = Recall(task = 'multiclass', average = 'weighted', num_classes = NUM_CLASSES).to(DEVICE)\n",
    "\n",
    "precision_train = Precision(task = 'multiclass', average = 'weighted', num_classes = NUM_CLASSES).to(DEVICE)\n",
    "precision_val = Precision(task = 'multiclass', average = 'weighted', num_classes = NUM_CLASSES).to(DEVICE)\n",
    "\n",
    "f1_train = F1Score(task = 'multiclass', average = 'weighted', num_classes = NUM_CLASSES).to(DEVICE)\n",
    "f1_val = F1Score(task = 'multiclass', average = 'weighted', num_classes = NUM_CLASSES).to(DEVICE)\n",
    "\n",
    "for epoch in range(1, EPOCHS+1):\n",
    "    epoch_loss = 0\n",
    "    samples = 0\n",
    "    #set model to train\n",
    "    model.train()\n",
    "    for data in (pbar:= tqdm(train_loader)):\n",
    "        #zero optim grad\n",
    "        optim.zero_grad(set_to_none=True)\n",
    "        img, labels = data\n",
    "\n",
    "        # append to sampels\n",
    "        n_batch = len(img)\n",
    "        samples+= n_batch\n",
    "\n",
    "        # to device\n",
    "        img = img.to(DEVICE)\n",
    "        labels = labels.to(DEVICE)\n",
    "\n",
    "        #forward step\n",
    "        with torch.autocast(device_type = 'cuda', dtype = torch.float16):\n",
    "            outputs = model(img)\n",
    "            loss = CrossEntropyLoss(outputs, labels)\n",
    "        \n",
    "\n",
    "        # backward step\n",
    "        scaler.scale(loss).backward()\n",
    "        scaler.step(optim)\n",
    "        scaler.update()\n",
    "\n",
    "        epoch_loss+= (loss.item() * n_batch)\n",
    "        pbar.set_description(f\"CE Loss: {epoch_loss/samples}\")\n",
    "\n",
    "        # accuracy and metrics\n",
    "        acc_train(outputs, labels)\n",
    "        precision_train(outputs, labels)\n",
    "        recall_train(outputs,labels)\n",
    "        f1_train(outputs, labels)\n",
    "\n",
    "    # validation\n",
    "    model.eval()\n",
    "\n",
    "    val_loss = 0\n",
    "    val_samples = 0\n",
    "    for data in (val_loader):\n",
    "        val_img, val_labels = data\n",
    "\n",
    "        # append to sampels\n",
    "        n_batch_val = len(img)\n",
    "        val_samples+= n_batch_val\n",
    "\n",
    "        # to device\n",
    "        val_img = val_img.to(DEVICE)\n",
    "        val_labels = val_labels.to(DEVICE)\n",
    "\n",
    "\n",
    "        with torch.no_grad():  \n",
    "            val_outputs = model(val_img)\n",
    "            v_loss = CrossEntropyLoss(val_outputs, val_labels)\n",
    "            val_loss+= (v_loss.item() * n_batch_val)\n",
    "\n",
    "        # metrics\n",
    "        acc_val(val_outputs, val_labels)\n",
    "        precision_val(val_outputs, val_labels)\n",
    "        recall_val(val_outputs, val_labels)\n",
    "        f1_val(val_outputs, val_labels)\n",
    "\n",
    "    logging_dict = {\n",
    "        'epoch': epoch,\n",
    "        'train_loss': epoch_loss/samples,\n",
    "        'val_loss': val_loss/val_samples,\n",
    "        \n",
    "        \n",
    "        'train_acc': acc_train.compute(),\n",
    "        'train_rec': recall_train.compute(),\n",
    "        'train_prec': precision_train.compute(),\n",
    "        'train_f1': f1_train.compute(),\n",
    "        \n",
    "        'val_acc_top1': acc_val.compute(),\n",
    "        'val_rec': recall_val.compute(),\n",
    "        'val_prec': precision_val.compute(),\n",
    "        'val_f1' : f1_val.compute()\n",
    "    }\n",
    "    \n",
    "    # print('Training Accuracy: {}, Validation Accuracy: {}'.format(logging_dict['train_acc'].item(), logging_dict['val_acc_top1'].item()))\n",
    "    wandb.log(logging_dict)\n",
    "    \n",
    "    # train_metrics.append(logging_dict)\n",
    "    \n",
    "    acc_train.reset()\n",
    "    acc_val.reset()\n",
    "    recall_train.reset()\n",
    "    recall_val.reset()\n",
    "    f1_train.reset()\n",
    "    f1_val.reset()\n",
    "    precision_train.reset()\n",
    "    precision_val.reset()\n",
    "    torch.save(model.state_dict(), MODEL_SAVE_PATH)\n",
    "    wandb.save(MODEL_SAVE_PATH)\n",
    "\n"
   ]
  },
  {
   "cell_type": "code",
   "execution_count": 16,
   "metadata": {},
   "outputs": [],
   "source": [
    "# import pickle as pkl\n",
    "\n",
    "# with open(\"training_logs.pkl\", 'wb') as file:\n",
    "#     pkl.dump(train_metrics, file)"
   ]
  },
  {
   "cell_type": "code",
   "execution_count": 17,
   "metadata": {},
   "outputs": [
    {
     "name": "stderr",
     "output_type": "stream",
     "text": [
      "100%|██████████| 56/56 [01:10<00:00,  1.25s/it]\n"
     ]
    }
   ],
   "source": [
    "# testing\n",
    "model.eval()\n",
    "\n",
    "labs = []\n",
    "\n",
    "acc_test = Accuracy(task = 'multiclass', average = 'weighted', num_classes = NUM_CLASSES, top_k = 1).to(DEVICE)\n",
    "recall_test = Recall(task = 'multiclass', average = 'weighted', num_classes = NUM_CLASSES).to(DEVICE)\n",
    "precision_test = Precision(task = 'multiclass', average = 'weighted', num_classes = NUM_CLASSES).to(DEVICE)\n",
    "f1_test = F1Score(task = 'multiclass', average = 'weighted', num_classes = NUM_CLASSES).to(DEVICE)\n",
    "\n",
    "test_loss = 0\n",
    "test_samples = 0\n",
    "for data in (pbar:= tqdm(test_loader)):\n",
    "    test_img, test_labels = data\n",
    "\n",
    "    # append to sampels\n",
    "    n_batch_test = len(img)\n",
    "    test_samples+= n_batch_test\n",
    "\n",
    "    # to device\n",
    "    test_img = test_img.to(DEVICE)\n",
    "    test_labels = test_labels.to(DEVICE)\n",
    "\n",
    "\n",
    "    with torch.no_grad():  \n",
    "        test_outputs = model(test_img)\n",
    "        t_loss = CrossEntropyLoss(test_outputs, test_labels)\n",
    "        test_loss+= (t_loss.item() * n_batch_test)\n",
    "        labs.append(test_outputs)\n",
    "\n",
    "    # metrics\n",
    "    acc_test(test_outputs, test_labels)\n",
    "    precision_test(test_outputs, test_labels)\n",
    "    recall_test(test_outputs, test_labels)\n",
    "    f1_test(test_outputs, test_labels)\n",
    "test_metrics = {\n",
    "    'test_acc': acc_test.compute(),\n",
    "    'test_rec': recall_test.compute(),\n",
    "    'test_prec': precision_test.compute(),\n",
    "    'test_f1': f1_test.compute(),\n",
    "}\n",
    "wandb.log(test_metrics)"
   ]
  },
  {
   "cell_type": "code",
   "execution_count": 18,
   "metadata": {},
   "outputs": [],
   "source": [
    "out = []\n",
    "\n",
    "for i in labs:\n",
    "    out.extend(torch.argmax(i, 1).detach().cpu().tolist())"
   ]
  },
  {
   "cell_type": "code",
   "execution_count": 19,
   "metadata": {},
   "outputs": [
    {
     "data": {
      "text/plain": [
       "(array([0, 1, 2, 3]), array([105,  27,  11, 134], dtype=int64))"
      ]
     },
     "execution_count": 19,
     "metadata": {},
     "output_type": "execute_result"
    }
   ],
   "source": [
    "np.unique(out, return_counts=True)"
   ]
  },
  {
   "cell_type": "code",
   "execution_count": 20,
   "metadata": {},
   "outputs": [],
   "source": [
    "# import pickle as pkl\n",
    "\n",
    "# with open(\"testing_logs.pkl\", 'wb') as file:\n",
    "#     pkl.dump(test_metrics, file)"
   ]
  },
  {
   "cell_type": "code",
   "execution_count": 21,
   "metadata": {},
   "outputs": [
    {
     "data": {
      "text/html": [
       "Waiting for W&B process to finish... <strong style=\"color:green\">(success).</strong>"
      ],
      "text/plain": [
       "<IPython.core.display.HTML object>"
      ]
     },
     "metadata": {},
     "output_type": "display_data"
    },
    {
     "data": {
      "application/vnd.jupyter.widget-view+json": {
       "model_id": "272f921ed0d24c2986ea9cd43df672cc",
       "version_major": 2,
       "version_minor": 0
      },
      "text/plain": [
       "VBox(children=(Label(value='0.220 MB of 0.220 MB uploaded (0.000 MB deduped)\\r'), FloatProgress(value=1.0, max…"
      ]
     },
     "metadata": {},
     "output_type": "display_data"
    },
    {
     "data": {
      "text/html": [
       "<style>\n",
       "    table.wandb td:nth-child(1) { padding: 0 10px; text-align: left ; width: auto;} td:nth-child(2) {text-align: left ; width: 100%}\n",
       "    .wandb-row { display: flex; flex-direction: row; flex-wrap: wrap; justify-content: flex-start; width: 100% }\n",
       "    .wandb-col { display: flex; flex-direction: column; flex-basis: 100%; flex: 1; padding: 10px; }\n",
       "    </style>\n",
       "<div class=\"wandb-row\"><div class=\"wandb-col\"><h3>Run history:</h3><br/><table class=\"wandb\"><tr><td>epoch</td><td>▁▁▂▂▂▂▃▃▃▄▄▄▅▅▅▅▆▆▆▇▇▇▇██</td></tr><tr><td>test_acc</td><td>▁</td></tr><tr><td>test_f1</td><td>▁</td></tr><tr><td>test_prec</td><td>▁</td></tr><tr><td>test_rec</td><td>▁</td></tr><tr><td>train_acc</td><td>▁▂▂▂▂▃▃▄▅▅▆▆▆▆▇█▇▇▇▇▇▇███</td></tr><tr><td>train_f1</td><td>▁▂▂▂▃▄▄▅▆▆▆▆▆▇▇█▇▇█▇█████</td></tr><tr><td>train_loss</td><td>█▇▇▆▆▅▅▅▄▄▃▃▃▃▂▂▂▂▁▂▂▂▁▁▁</td></tr><tr><td>train_prec</td><td>▁▂▅▅▄▅▅▆▆▆▇▇▇▇▇█▇██▇█████</td></tr><tr><td>train_rec</td><td>▁▂▂▂▂▃▃▄▅▅▆▆▆▆▇█▇▇▇▇▇▇███</td></tr><tr><td>val_acc_top1</td><td>▁▁▁▁▁▁▂▂▂▃▁▂▁▅▃▃▂▆▃▅█▅▅▄▄</td></tr><tr><td>val_f1</td><td>▁▁▁▁▁▃▄▄▄▄▃▄▃▆▄▅▄▇▄▆█▆▆▆▆</td></tr><tr><td>val_loss</td><td>▁▂▄▃▃▂▂▃▄▃▅▆▄▃▆▅▆▄█▄▄▅▅▅▅</td></tr><tr><td>val_prec</td><td>▁▁▁██▅▆▆▆▆▆▆▅▇▇▆▆▆▆▆▆▆▆▆▆</td></tr><tr><td>val_rec</td><td>▁▁▁▁▁▁▂▂▂▃▁▂▁▅▃▃▂▆▃▅█▅▅▄▄</td></tr></table><br/></div><div class=\"wandb-col\"><h3>Run summary:</h3><br/><table class=\"wandb\"><tr><td>epoch</td><td>25</td></tr><tr><td>test_acc</td><td>0.37906</td></tr><tr><td>test_f1</td><td>0.40894</td></tr><tr><td>test_prec</td><td>0.51531</td></tr><tr><td>test_rec</td><td>0.37906</td></tr><tr><td>train_acc</td><td>0.86822</td></tr><tr><td>train_f1</td><td>0.86013</td></tr><tr><td>train_loss</td><td>0.29163</td></tr><tr><td>train_prec</td><td>0.86714</td></tr><tr><td>train_rec</td><td>0.86822</td></tr><tr><td>val_acc_top1</td><td>0.31783</td></tr><tr><td>val_f1</td><td>0.3511</td></tr><tr><td>val_loss</td><td>2.41468</td></tr><tr><td>val_prec</td><td>0.48514</td></tr><tr><td>val_rec</td><td>0.31783</td></tr></table><br/></div></div>"
      ],
      "text/plain": [
       "<IPython.core.display.HTML object>"
      ]
     },
     "metadata": {},
     "output_type": "display_data"
    },
    {
     "data": {
      "text/html": [
       " View run <strong style=\"color:#cdcd00\">3D Convnet with random sampling and class weights</strong> at: <a href='https://wandb.ai/madkri/Breast%20Cancer%20Subtype%20Prediction%20-%20Mol_Subtype/runs/9eir6imu' target=\"_blank\">https://wandb.ai/madkri/Breast%20Cancer%20Subtype%20Prediction%20-%20Mol_Subtype/runs/9eir6imu</a><br/>Synced 6 W&B file(s), 0 media file(s), 0 artifact file(s) and 1 other file(s)"
      ],
      "text/plain": [
       "<IPython.core.display.HTML object>"
      ]
     },
     "metadata": {},
     "output_type": "display_data"
    },
    {
     "data": {
      "text/html": [
       "Find logs at: <code>.\\wandb\\run-20231111_131333-9eir6imu\\logs</code>"
      ],
      "text/plain": [
       "<IPython.core.display.HTML object>"
      ]
     },
     "metadata": {},
     "output_type": "display_data"
    }
   ],
   "source": [
    "wandb.finish()"
   ]
  }
 ],
 "metadata": {
  "kernelspec": {
   "display_name": "Python 3.11.5 ('torchnew')",
   "language": "python",
   "name": "python3"
  },
  "language_info": {
   "codemirror_mode": {
    "name": "ipython",
    "version": 3
   },
   "file_extension": ".py",
   "mimetype": "text/x-python",
   "name": "python",
   "nbconvert_exporter": "python",
   "pygments_lexer": "ipython3",
   "version": "3.11.5"
  },
  "orig_nbformat": 4,
  "vscode": {
   "interpreter": {
    "hash": "aae2c75324e7fdf5ebd22146e2daffaa477f8ea149f0e685be4c317c2939a685"
   }
  }
 },
 "nbformat": 4,
 "nbformat_minor": 2
}
